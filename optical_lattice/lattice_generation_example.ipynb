{
 "cells": [
  {
   "cell_type": "code",
   "execution_count": 30,
   "metadata": {},
   "outputs": [],
   "source": [
    "%matplotlib inline \n",
    "\n",
    "from lattice_generation import GeneratedLatticeImage\n",
    "from analysis_models import mixture_model_v0"
   ]
  },
  {
   "cell_type": "code",
   "execution_count": 31,
   "metadata": {},
   "outputs": [],
   "source": [
    "N = 3\n",
    "M = 10\n",
    "N_atom = 5\n",
    "N_photon = 100\n",
    "std = 1\n",
    "N_backg = 100\n",
    "lam_backg = 1"
   ]
  },
  {
   "cell_type": "code",
   "execution_count": 32,
   "metadata": {},
   "outputs": [],
   "source": [
    "lattice_image = GeneratedLatticeImage(\n",
    "    N=N,\n",
    "    M=M,\n",
    "    N_atom=N_atom,\n",
    "    N_photon=N_photon,\n",
    "    std=std,\n",
    "    N_backg=N_backg, \n",
    "    lam_backg=lam_backg\n",
    ")"
   ]
  },
  {
   "cell_type": "code",
   "execution_count": 33,
   "metadata": {},
   "outputs": [
    {
     "data": {
      "image/png": "[encoded data removed]",
      "text/plain": [
       "<Figure size 800x800 with 1 Axes>"
      ]
     },
     "metadata": {
      "needs_background": "light"
     },
     "output_type": "display_data"
    }
   ],
   "source": [
    "lattice_image.plot()"
   ]
  },
  {
   "cell_type": "code",
   "execution_count": 34,
   "metadata": {},
   "outputs": [
    {
     "data": {
      "text/plain": [
       "array([[0., 0., 0.],\n",
       "       [1., 1., 1.],\n",
       "       [1., 1., 0.]])"
      ]
     },
     "execution_count": 34,
     "metadata": {},
     "output_type": "execute_result"
    }
   ],
   "source": [
    "lattice_image.actual_lattice"
   ]
  },
  {
   "cell_type": "markdown",
   "metadata": {},
   "source": [
    "## Analysis Part"
   ]
  },
  {
   "cell_type": "code",
   "execution_count": 35,
   "metadata": {},
   "outputs": [],
   "source": [
    "from lattice_analyser import LatticeImageAnalyzer"
   ]
  },
  {
   "cell_type": "code",
   "execution_count": 36,
   "metadata": {},
   "outputs": [
    {
     "name": "stderr",
     "output_type": "stream",
     "text": [
      "logp = -38.611, ||grad|| = 1.9648: 100%|█████████████████████████████████████████████| 11/11 [00:00<00:00, 3676.87it/s]\n",
      "logp = -32.277, ||grad|| = 0.98944: 100%|██████████████████████████████████████████████| 7/7 [00:00<00:00, 7023.95it/s]\n",
      "logp = -36.844, ||grad|| = 0.0027011: 100%|██████████████████████████████████████████| 21/21 [00:00<00:00, 4207.93it/s]\n",
      "logp = -357.17, ||grad|| = 32.803: 100%|███████████████████████████████████████████████| 9/9 [00:00<00:00, 2996.17it/s]\n",
      "logp = -356.35, ||grad|| = 28.232: 100%|█████████████████████████████████████████████| 11/11 [00:00<00:00, 3675.70it/s]\n",
      "logp = -427.08, ||grad|| = 24.6: 100%|█████████████████████████████████████████████████| 8/8 [00:00<00:00, 2672.38it/s]\n",
      "logp = -395.92, ||grad|| = 27.93: 100%|████████████████████████████████████████████████| 8/8 [00:00<00:00, 4008.89it/s]\n",
      "logp = -374.4, ||grad|| = 28.811: 100%|████████████████████████████████████████████████| 9/9 [00:00<00:00, 4510.54it/s]\n",
      "logp = -50.66, ||grad|| = 0.0035346: 100%|███████████████████████████████████████████| 21/21 [00:00<00:00, 5263.24it/s]\n"
     ]
    }
   ],
   "source": [
    "# Instanciate the Analyser with the lattice_image object created above\n",
    "P = LatticeImageAnalyzer(lattice_image)\n",
    "\n",
    "# Choose analysis function\n",
    "analysis_function = mixture_model_v0\n",
    "\n",
    "# Run analysis\n",
    "P.run_analysis(\n",
    "    analysis_function=analysis_function\n",
    ")"
   ]
  },
  {
   "cell_type": "code",
   "execution_count": 37,
   "metadata": {},
   "outputs": [
    {
     "name": "stdout",
     "output_type": "stream",
     "text": [
      "[[ 5.8 22.3  0. ]\n",
      " [93.6 96.7 84.1]\n",
      " [87.5 90.9  0. ]]\n"
     ]
    }
   ],
   "source": [
    "P.print_occupation()"
   ]
  },
  {
   "cell_type": "code",
   "execution_count": 38,
   "metadata": {},
   "outputs": [
    {
     "data": {
      "text/plain": [
       "array([[0., 0., 0.],\n",
       "       [1., 1., 1.],\n",
       "       [1., 1., 0.]])"
      ]
     },
     "execution_count": 38,
     "metadata": {},
     "output_type": "execute_result"
    }
   ],
   "source": [
    "lattice_image.actual_lattice"
   ]
  },
  {
   "cell_type": "code",
   "execution_count": null,
   "metadata": {},
   "outputs": [],
   "source": []
  }
 ],
 "metadata": {
  "kernelspec": {
   "display_name": "Python 3",
   "language": "python",
   "name": "python3"
  },
  "language_info": {
   "codemirror_mode": {
    "name": "ipython",
    "version": 3
   },
   "file_extension": ".py",
   "mimetype": "text/x-python",
   "name": "python",
   "nbconvert_exporter": "python",
   "pygments_lexer": "ipython3",
   "version": "3.7.4"
  }
 },
 "nbformat": 4,
 "nbformat_minor": 4
}
