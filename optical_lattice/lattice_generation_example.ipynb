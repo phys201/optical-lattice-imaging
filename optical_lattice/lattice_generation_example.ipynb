{
 "cells": [
  {
   "cell_type": "code",
   "execution_count": 10,
   "metadata": {},
   "outputs": [],
   "source": [
    "%matplotlib inline \n",
    "\n",
    "from lattice_generation import GeneratedLatticeImage\n",
    "from analysis_models import mixture_model_v0"
   ]
  },
  {
   "cell_type": "code",
   "execution_count": 27,
   "metadata": {},
   "outputs": [],
   "source": [
    "N = 3\n",
    "M = 10\n",
    "N_atom = 5\n",
    "N_photon = 100\n",
    "std = 1\n",
    "N_backg = 100\n",
    "lam_backg = 1"
   ]
  },
  {
   "cell_type": "code",
   "execution_count": 32,
   "metadata": {},
   "outputs": [],
   "source": [
    "lattice_image = GeneratedLatticeImage(\n",
    "    N=N,\n",
    "    M=M,\n",
    "    N_atom=N_atom,\n",
    "    N_photon=N_photon,\n",
    "    std=std,\n",
    "    N_backg=N_backg, \n",
    "    lam_backg=lam_backg\n",
    ")"
   ]
  },
  {
   "cell_type": "code",
   "execution_count": 33,
   "metadata": {},
   "outputs": [
    {
     "data": {
      "image/png": "[encoded data removed]",
      "text/plain": [
       "<Figure size 800x800 with 1 Axes>"
      ]
     },
     "metadata": {
      "needs_background": "light"
     },
     "output_type": "display_data"
    }
   ],
   "source": [
    "lattice_image.plot()"
   ]
  },
  {
   "cell_type": "code",
   "execution_count": 34,
   "metadata": {},
   "outputs": [
    {
     "data": {
      "text/plain": [
       "array([[0., 0., 0.],\n",
       "       [1., 0., 1.],\n",
       "       [1., 1., 1.]])"
      ]
     },
     "execution_count": 34,
     "metadata": {},
     "output_type": "execute_result"
    }
   ],
   "source": [
    "lattice_image.actual_lattice"
   ]
  },
  {
   "cell_type": "markdown",
   "metadata": {},
   "source": [
    "## Analysis Part"
   ]
  },
  {
   "cell_type": "code",
   "execution_count": 22,
   "metadata": {},
   "outputs": [],
   "source": [
    "from lattice_analyser import LatticeImageAnalyzer"
   ]
  },
  {
   "cell_type": "code",
   "execution_count": 35,
   "metadata": {},
   "outputs": [
    {
     "name": "stderr",
     "output_type": "stream",
     "text": [
      "logp = -73.683, ||grad|| = 5.2361e-06: 100%|█████████████████████████████████████████| 22/22 [00:00<00:00, 3676.14it/s]\n",
      "logp = -41.447, ||grad|| = 0.0015285: 100%|██████████████████████████████████████████| 19/19 [00:00<00:00, 3823.80it/s]\n",
      "logp = -55.26, ||grad|| = 0.00074823: 100%|██████████████████████████████████████████| 15/15 [00:00<00:00, 3787.98it/s]\n",
      "logp = -375.75, ||grad|| = 28.599: 100%|███████████████████████████████████████████████| 9/9 [00:00<00:00, 4512.70it/s]\n",
      "logp = -50.66, ||grad|| = 0.0026715: 100%|███████████████████████████████████████████| 21/21 [00:00<00:00, 4209.54it/s]\n",
      "logp = -365.25, ||grad|| = 29.779: 100%|███████████████████████████████████████████████| 9/9 [00:00<00:00, 3007.63it/s]\n",
      "logp = -383.69, ||grad|| = 29.35: 100%|████████████████████████████████████████████████| 9/9 [00:00<00:00, 4548.59it/s]\n",
      "logp = -383.06, ||grad|| = 31.319: 100%|███████████████████████████████████████████████| 9/9 [00:00<00:00, 4504.62it/s]\n",
      "logp = -387.63, ||grad|| = 30.358: 100%|███████████████████████████████████████████████| 9/9 [00:00<00:00, 4510.54it/s]\n"
     ]
    }
   ],
   "source": [
    "# Instanciate the Analyser with the lattice_image object created above\n",
    "P = LatticeImageAnalyzer(lattice_image)\n",
    "\n",
    "# Choose analysis function\n",
    "analysis_function = mixture_model_v0\n",
    "\n",
    "# Run analysis\n",
    "P.run_analysis(\n",
    "    analysis_function=analysis_function\n",
    ")"
   ]
  },
  {
   "cell_type": "code",
   "execution_count": 36,
   "metadata": {},
   "outputs": [
    {
     "name": "stdout",
     "output_type": "stream",
     "text": [
      "[[ 0.   0.1  1.3]\n",
      " [92.4  0.  91.4]\n",
      " [90.8 90.8 89.7]]\n"
     ]
    }
   ],
   "source": [
    "P.print_occupation()"
   ]
  },
  {
   "cell_type": "code",
   "execution_count": 37,
   "metadata": {},
   "outputs": [
    {
     "data": {
      "text/plain": [
       "array([[0., 0., 0.],\n",
       "       [1., 0., 1.],\n",
       "       [1., 1., 1.]])"
      ]
     },
     "execution_count": 37,
     "metadata": {},
     "output_type": "execute_result"
    }
   ],
   "source": [
    "lattice_image.actual_lattice"
   ]
  },
  {
   "cell_type": "code",
   "execution_count": null,
   "metadata": {},
   "outputs": [],
   "source": []
  }
 ],
 "metadata": {
  "kernelspec": {
   "display_name": "Python 3",
   "language": "python",
   "name": "python3"
  },
  "language_info": {
   "codemirror_mode": {
    "name": "ipython",
    "version": 3
   },
   "file_extension": ".py",
   "mimetype": "text/x-python",
   "name": "python",
   "nbconvert_exporter": "python",
   "pygments_lexer": "ipython3",
   "version": "3.7.4"
  }
 },
 "nbformat": 4,
 "nbformat_minor": 4
}
