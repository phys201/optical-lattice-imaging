{
 "cells": [
  {
   "cell_type": "code",
   "execution_count": 1,
   "metadata": {},
   "outputs": [],
   "source": [
    "%matplotlib inline \n",
    "\n",
    "from lattice_generation import GeneratedLatticeImage"
   ]
  },
  {
   "cell_type": "markdown",
   "metadata": {},
   "source": [
    "## Generate Data"
   ]
  },
  {
   "cell_type": "markdown",
   "metadata": {},
   "source": [
    "Specify parameters to generate data:"
   ]
  },
  {
   "cell_type": "code",
   "execution_count": 2,
   "metadata": {},
   "outputs": [],
   "source": [
    "N = 5 #Number of lattice sites along each axis\n",
    "M = 10 #Number of pixels per lattice site\n",
    "N_atom = 12 #Number of atoms to be randomly placed\n",
    "N_photon = 100 #Number of photons atoms fluoresce\n",
    "std = 1 #Width of the normal distribution that counts are sampled from\n",
    "N_backg = 300 #Number of samples drawn from the Poisson distribution for the background noise\n",
    "lam_backg = 1 #Expectation interval of the Poisson dark count event"
   ]
  },
  {
   "cell_type": "markdown",
   "metadata": {},
   "source": [
    "Generate the data with specified parameters"
   ]
  },
  {
   "cell_type": "code",
   "execution_count": 3,
   "metadata": {},
   "outputs": [],
   "source": [
    "lattice_image = GeneratedLatticeImage(\n",
    "    N=N,\n",
    "    M=M,\n",
    "    N_atom=N_atom,\n",
    "    N_photon=N_photon,\n",
    "    std=std,\n",
    "    N_backg=N_backg, \n",
    "    lam_backg=lam_backg\n",
    ")"
   ]
  },
  {
   "cell_type": "markdown",
   "metadata": {},
   "source": [
    "Visualize the generated data"
   ]
  },
  {
   "cell_type": "code",
   "execution_count": 4,
   "metadata": {},
   "outputs": [
    {
     "data": {
      "image/png": "[encoded data removed]",
      "text/plain": [
       "<Figure size 800x800 with 1 Axes>"
      ]
     },
     "metadata": {
      "needs_background": "light"
     },
     "output_type": "display_data"
    }
   ],
   "source": [
    "lattice_image.plot()"
   ]
  },
  {
   "cell_type": "markdown",
   "metadata": {},
   "source": [
    "Generated data also gives the actual, binary distribution of atoms on the lattice"
   ]
  },
  {
   "cell_type": "code",
   "execution_count": 5,
   "metadata": {},
   "outputs": [
    {
     "data": {
      "text/plain": [
       "array([[1., 0., 0., 1., 0.],\n",
       "       [1., 1., 1., 0., 1.],\n",
       "       [0., 0., 0., 0., 0.],\n",
       "       [1., 1., 1., 0., 0.],\n",
       "       [0., 0., 1., 1., 1.]])"
      ]
     },
     "execution_count": 5,
     "metadata": {},
     "output_type": "execute_result"
    }
   ],
   "source": [
    "lattice_image.actual_lattice"
   ]
  },
  {
   "cell_type": "markdown",
   "metadata": {},
   "source": [
    "## Analysis Part"
   ]
  },
  {
   "cell_type": "code",
   "execution_count": 6,
   "metadata": {},
   "outputs": [],
   "source": [
    "from analysis_models import mixture_model_v0\n",
    "from lattice_analyser import LatticeImageAnalyzer"
   ]
  },
  {
   "cell_type": "markdown",
   "metadata": {},
   "source": [
    "Specify the model for the analysis, analyze the data with that model given the generated data results"
   ]
  },
  {
   "cell_type": "code",
   "execution_count": 7,
   "metadata": {},
   "outputs": [
    {
     "name": "stderr",
     "output_type": "stream",
     "text": [
      "logp = -362.59, ||grad|| = 30.453: 100%|███████████████████████████████████████████████| 9/9 [00:00<00:00, 1511.10it/s]\n",
      "logp = -73.676, ||grad|| = 0.0012705: 100%|██████████████████████████████████████████| 15/15 [00:00<00:00, 3759.68it/s]\n",
      "logp = -68.246, ||grad|| = 4.3702: 100%|█████████████████████████████████████████████| 11/11 [00:00<00:00, 5610.77it/s]\n",
      "logp = -393.04, ||grad|| = 30.697: 100%|███████████████████████████████████████████████| 9/9 [00:00<00:00, 3006.67it/s]\n",
      "logp = -47.32, ||grad|| = 2.7648: 100%|████████████████████████████████████████████████| 8/8 [00:00<00:00, 2675.37it/s]\n",
      "logp = -421.03, ||grad|| = 25.629: 100%|███████████████████████████████████████████████| 8/8 [00:00<00:00, 4007.46it/s]\n",
      "logp = -384.54, ||grad|| = 28.545: 100%|███████████████████████████████████████████████| 8/8 [00:00<00:00, 4009.85it/s]\n",
      "logp = -392.9, ||grad|| = 26.455: 100%|████████████████████████████████████████████████| 9/9 [00:00<00:00, 3032.76it/s]\n",
      "logp = -59.87, ||grad|| = 0.0033932: 100%|███████████████████████████████████████████| 21/21 [00:00<00:00, 3508.90it/s]\n",
      "logp = -375.58, ||grad|| = 29.148: 100%|███████████████████████████████████████████████| 9/9 [00:00<00:00, 4510.54it/s]\n",
      "logp = -69.081, ||grad|| = 0.0033004: 100%|██████████████████████████████████████████| 21/21 [00:00<00:00, 3007.70it/s]\n",
      "logp = -41.449, ||grad|| = 0.0026142: 100%|██████████████████████████████████████████| 21/21 [00:00<00:00, 4243.61it/s]\n",
      "logp = -59.871, ||grad|| = 0.0042267: 100%|██████████████████████████████████████████| 21/21 [00:00<00:00, 4212.56it/s]\n",
      "logp = -59.87, ||grad|| = 0.0030913: 100%|███████████████████████████████████████████| 21/21 [00:00<00:00, 3007.80it/s]\n",
      "logp = -87.498, ||grad|| = 0.0022957: 100%|██████████████████████████████████████████| 17/17 [00:00<00:00, 3409.19it/s]\n",
      "logp = -394.59, ||grad|| = 28.627: 100%|███████████████████████████████████████████████| 9/9 [00:00<00:00, 3006.67it/s]\n",
      "logp = -387.04, ||grad|| = 28.634: 100%|███████████████████████████████████████████████| 9/9 [00:00<00:00, 3002.13it/s]\n",
      "logp = -355.55, ||grad|| = 32.672: 100%|███████████████████████████████████████████████| 9/9 [00:00<00:00, 4512.16it/s]\n",
      "logp = -27.633, ||grad|| = 0.0014901: 100%|██████████████████████████████████████████| 20/20 [00:00<00:00, 3342.07it/s]\n",
      "logp = -46.054, ||grad|| = 0.0027663: 100%|██████████████████████████████████████████| 21/21 [00:00<00:00, 4210.95it/s]\n",
      "logp = -90.045, ||grad|| = 4.646: 100%|████████████████████████████████████████████████| 9/9 [00:00<00:00, 4512.16it/s]\n",
      "logp = -59.871, ||grad|| = 0.0039342: 100%|██████████████████████████████████████████| 21/21 [00:00<00:00, 4239.73it/s]\n",
      "logp = -445.98, ||grad|| = 24.121: 100%|███████████████████████████████████████████████| 8/8 [00:00<00:00, 4085.03it/s]\n",
      "logp = -383.41, ||grad|| = 31.413: 100%|███████████████████████████████████████████████| 9/9 [00:00<00:00, 3046.22it/s]\n",
      "logp = -388.85, ||grad|| = 29.025: 100%|███████████████████████████████████████████████| 9/9 [00:00<00:00, 4514.86it/s]\n"
     ]
    }
   ],
   "source": [
    "# Instanciate the Analyser with the lattice_image object created above\n",
    "P = LatticeImageAnalyzer(lattice_image)\n",
    "\n",
    "# Choose analysis function\n",
    "analysis_function = mixture_model_v0\n",
    "\n",
    "# Run analysis\n",
    "P.run_analysis(\n",
    "    analysis_function=analysis_function\n",
    ")"
   ]
  },
  {
   "cell_type": "markdown",
   "metadata": {},
   "source": [
    "The model yields the probability that each lattice site is occupied by an atom"
   ]
  },
  {
   "cell_type": "code",
   "execution_count": 8,
   "metadata": {},
   "outputs": [
    {
     "name": "stdout",
     "output_type": "stream",
     "text": [
      "[[92.5  0.8  6.5 90.1 14.4]\n",
      " [86.2 87.6 90.7  0.  90.1]\n",
      " [ 0.   0.   0.   0.   0.4]\n",
      " [88.5 91.1 94.1  0.   0. ]\n",
      " [13.5  0.  81.5 91.6 90.9]]\n"
     ]
    }
   ],
   "source": [
    "P.print_occupation()"
   ]
  },
  {
   "cell_type": "markdown",
   "metadata": {},
   "source": [
    "Compare this result with the actual distribution of atoms"
   ]
  },
  {
   "cell_type": "code",
   "execution_count": 9,
   "metadata": {},
   "outputs": [
    {
     "data": {
      "text/plain": [
       "array([[1., 0., 0., 1., 0.],\n",
       "       [1., 1., 1., 0., 1.],\n",
       "       [0., 0., 0., 0., 0.],\n",
       "       [1., 1., 1., 0., 0.],\n",
       "       [0., 0., 1., 1., 1.]])"
      ]
     },
     "execution_count": 9,
     "metadata": {},
     "output_type": "execute_result"
    }
   ],
   "source": [
    "lattice_image.actual_lattice"
   ]
  }
 ],
 "metadata": {
  "kernelspec": {
   "display_name": "Python 3",
   "language": "python",
   "name": "python3"
  },
  "language_info": {
   "codemirror_mode": {
    "name": "ipython",
    "version": 3
   },
   "file_extension": ".py",
   "mimetype": "text/x-python",
   "name": "python",
   "nbconvert_exporter": "python",
   "pygments_lexer": "ipython3",
   "version": "3.7.4"
  }
 },
 "nbformat": 4,
 "nbformat_minor": 4
}
