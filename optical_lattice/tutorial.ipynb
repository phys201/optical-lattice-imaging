{
 "cells": [
  {
   "cell_type": "code",
   "execution_count": 50,
   "metadata": {},
   "outputs": [],
   "source": [
    "%matplotlib inline \n",
    "\n",
    "from lattice_generation import GeneratedLatticeImage"
   ]
  },
  {
   "cell_type": "markdown",
   "metadata": {},
   "source": [
    "## Generate Data"
   ]
  },
  {
   "cell_type": "markdown",
   "metadata": {},
   "source": [
    "Specify parameters to generate data:"
   ]
  },
  {
   "cell_type": "code",
   "execution_count": 51,
   "metadata": {},
   "outputs": [],
   "source": [
    "N = 5 #Number of lattice sites along each axis\n",
    "M = 10 #Number of pixels per lattice site\n",
    "N_atom = 12 #Number of atoms to be randomly placed\n",
    "N_photon = 100 #Number of photons atoms fluoresce\n",
    "std = 1 #Width of the normal distribution that counts are sampled from\n",
    "N_backg = 300 #Number of samples drawn from the Poisson distribution for the background noise\n",
    "lam_backg = 1 #Expectation interval of the Poisson dark count event"
   ]
  },
  {
   "cell_type": "markdown",
   "metadata": {},
   "source": [
    "Generate the data with specified parameters"
   ]
  },
  {
   "cell_type": "code",
   "execution_count": 52,
   "metadata": {},
   "outputs": [],
   "source": [
    "lattice_image = GeneratedLatticeImage(\n",
    "    N=N,\n",
    "    M=M,\n",
    "    N_atom=N_atom,\n",
    "    N_photon=N_photon,\n",
    "    std=std,\n",
    "    N_backg=N_backg, \n",
    "    lam_backg=lam_backg\n",
    ")"
   ]
  },
  {
   "cell_type": "markdown",
   "metadata": {},
   "source": [
    "Visualize the generated data"
   ]
  },
  {
   "cell_type": "code",
   "execution_count": 53,
   "metadata": {},
   "outputs": [
    {
     "data": {
      "image/png": "[encoded data removed]",
      "text/plain": [
       "<Figure size 800x800 with 1 Axes>"
      ]
     },
     "metadata": {
      "needs_background": "light"
     },
     "output_type": "display_data"
    }
   ],
   "source": [
    "lattice_image.plot()"
   ]
  },
  {
   "cell_type": "markdown",
   "metadata": {},
   "source": [
    "Generated data also gives the actual, binary distribution of atoms on the lattice"
   ]
  },
  {
   "cell_type": "code",
   "execution_count": 54,
   "metadata": {},
   "outputs": [
    {
     "data": {
      "text/plain": [
       "array([[1., 0., 1., 0., 0.],\n",
       "       [1., 1., 0., 0., 1.],\n",
       "       [1., 0., 0., 1., 1.],\n",
       "       [0., 0., 1., 0., 0.],\n",
       "       [1., 1., 1., 0., 0.]])"
      ]
     },
     "execution_count": 54,
     "metadata": {},
     "output_type": "execute_result"
    }
   ],
   "source": [
    "lattice_image.actual_lattice"
   ]
  },
  {
   "cell_type": "markdown",
   "metadata": {},
   "source": [
    "## Analysis Part"
   ]
  },
  {
   "cell_type": "code",
   "execution_count": 55,
   "metadata": {},
   "outputs": [],
   "source": [
    "from analysis_models import mixture_model_v0\n",
    "from lattice_analyser import LatticeImageAnalyzer"
   ]
  },
  {
   "cell_type": "markdown",
   "metadata": {},
   "source": [
    "Specify the model for the analysis, analyze the data with that model given the generated data results"
   ]
  },
  {
   "cell_type": "code",
   "execution_count": 56,
   "metadata": {},
   "outputs": [
    {
     "name": "stderr",
     "output_type": "stream",
     "text": [
      "logp = -391.64, ||grad|| = 28.615: 100%|███████████████████████████████████████████████| 8/8 [00:00<00:00, 1145.87it/s]\n",
      "logp = -46.276, ||grad|| = 1.8392: 100%|███████████████████████████████████████████████| 8/8 [00:00<00:00, 4012.73it/s]\n",
      "logp = -456.52, ||grad|| = 18.951: 100%|███████████████████████████████████████████████| 7/7 [00:00<00:00, 2340.38it/s]\n",
      "logp = -78.909, ||grad|| = 3.574: 100%|████████████████████████████████████████████████| 8/8 [00:00<00:00, 2703.39it/s]\n",
      "logp = -59.87, ||grad|| = 0.0030306: 100%|███████████████████████████████████████████| 21/21 [00:00<00:00, 4210.34it/s]\n",
      "logp = -391.63, ||grad|| = 25.442: 100%|███████████████████████████████████████████████| 9/9 [00:00<00:00, 4427.48it/s]\n",
      "logp = -380.61, ||grad|| = 29.832: 100%|███████████████████████████████████████████████| 8/8 [00:00<00:00, 2671.32it/s]\n",
      "logp = -58.26, ||grad|| = 3.2517: 100%|██████████████████████████████████████████████| 11/11 [00:00<00:00, 3675.11it/s]\n",
      "logp = -78.288, ||grad|| = 5.3927e-06: 100%|█████████████████████████████████████████| 22/22 [00:00<00:00, 3150.81it/s]\n",
      "logp = -369.94, ||grad|| = 29.706: 100%|█████████████████████████████████████████████| 11/11 [00:00<00:00, 2756.28it/s]\n",
      "logp = -407.94, ||grad|| = 27.42: 100%|████████████████████████████████████████████████| 8/8 [00:00<00:00, 2676.01it/s]\n",
      "logp = -50.659, ||grad|| = 0.0023652: 100%|██████████████████████████████████████████| 20/20 [00:00<00:00, 5014.11it/s]\n",
      "logp = -68.973, ||grad|| = 5.6753e-08: 100%|█████████████████████████████████████████| 12/12 [00:00<00:00, 3008.29it/s]\n",
      "logp = -394.43, ||grad|| = 24.852: 100%|███████████████████████████████████████████████| 8/8 [00:00<00:00, 2673.02it/s]\n",
      "logp = -311.46, ||grad|| = 1.1889e-07: 100%|█████████████████████████████████████████| 12/12 [00:00<00:00, 4012.09it/s]\n",
      "logp = -69.08, ||grad|| = 0.003365: 100%|████████████████████████████████████████████| 21/21 [00:00<00:00, 3509.32it/s]\n",
      "logp = -71.245, ||grad|| = 3.3244: 100%|███████████████████████████████████████████████| 9/9 [00:00<00:00, 4591.75it/s]\n",
      "logp = -364.87, ||grad|| = 31.946: 100%|█████████████████████████████████████████████| 10/10 [00:00<00:00, 3341.81it/s]\n",
      "logp = -59.948, ||grad|| = 1.6574: 100%|███████████████████████████████████████████████| 8/8 [00:00<00:00, 2674.73it/s]\n",
      "logp = -41.41, ||grad|| = 1.3241e-07: 100%|██████████████████████████████████████████| 12/12 [00:00<00:00, 2422.35it/s]\n",
      "logp = -416.64, ||grad|| = 25.331: 100%|███████████████████████████████████████████████| 8/8 [00:00<00:00, 2674.94it/s]\n",
      "logp = -419.72, ||grad|| = 24.917: 100%|███████████████████████████████████████████████| 8/8 [00:00<00:00, 4009.85it/s]\n",
      "logp = -405.02, ||grad|| = 25.857: 100%|███████████████████████████████████████████████| 8/8 [00:00<00:00, 2674.09it/s]\n",
      "logp = -96.709, ||grad|| = 5.8539e-06: 100%|█████████████████████████████████████████| 22/22 [00:00<00:00, 3676.28it/s]\n",
      "logp = -73.687, ||grad|| = 0.0042283: 100%|██████████████████████████████████████████| 21/21 [00:00<00:00, 4211.35it/s]\n"
     ]
    }
   ],
   "source": [
    "# Instanciate the Analyser with the lattice_image object created above\n",
    "P = LatticeImageAnalyzer(lattice_image)\n",
    "\n",
    "# Choose analysis function\n",
    "analysis_function = mixture_model_v0\n",
    "\n",
    "# Run analysis\n",
    "P.run_analysis(\n",
    "    analysis_function=analysis_function\n",
    ")"
   ]
  },
  {
   "cell_type": "markdown",
   "metadata": {},
   "source": [
    "The model yields the probability that each lattice site is occupied by an atom"
   ]
  },
  {
   "cell_type": "code",
   "execution_count": 57,
   "metadata": {},
   "outputs": [
    {
     "name": "stdout",
     "output_type": "stream",
     "text": [
      "[[88.  18.9 77.4 18.9  0. ]\n",
      " [89.5 88.9  5.4  0.  96.2]\n",
      " [85.4  0.   4.2 84.8 98.6]\n",
      " [ 0.  11.4 94.5 21.1  4.4]\n",
      " [84.6 82.6 85.   0.   0. ]]\n"
     ]
    }
   ],
   "source": [
    "P.print_occupation()"
   ]
  },
  {
   "cell_type": "markdown",
   "metadata": {},
   "source": [
    "Compare this result with the actual distribution of atoms"
   ]
  },
  {
   "cell_type": "code",
   "execution_count": 58,
   "metadata": {},
   "outputs": [
    {
     "data": {
      "text/plain": [
       "array([[1., 0., 1., 0., 0.],\n",
       "       [1., 1., 0., 0., 1.],\n",
       "       [1., 0., 0., 1., 1.],\n",
       "       [0., 0., 1., 0., 0.],\n",
       "       [1., 1., 1., 0., 0.]])"
      ]
     },
     "execution_count": 58,
     "metadata": {},
     "output_type": "execute_result"
    }
   ],
   "source": [
    "lattice_image.actual_lattice"
   ]
  }
 ],
 "metadata": {
  "kernelspec": {
   "display_name": "Python 3",
   "language": "python",
   "name": "python3"
  },
  "language_info": {
   "codemirror_mode": {
    "name": "ipython",
    "version": 3
   },
   "file_extension": ".py",
   "mimetype": "text/x-python",
   "name": "python",
   "nbconvert_exporter": "python",
   "pygments_lexer": "ipython3",
   "version": "3.7.4"
  }
 },
 "nbformat": 4,
 "nbformat_minor": 4
}
